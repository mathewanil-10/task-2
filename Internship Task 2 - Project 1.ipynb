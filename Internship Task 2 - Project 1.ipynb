{
 "cells": [
  {
   "cell_type": "code",
   "execution_count": 1,
   "id": "8c96c073-5f3f-431a-aae5-7ac20e9df86d",
   "metadata": {},
   "outputs": [],
   "source": [
    "import pandas as pd\n",
    "import numpy as np\n",
    "import matplotlib.pyplot as plt\n",
    "import seaborn as sns"
   ]
  },
  {
   "cell_type": "code",
   "execution_count": 3,
   "id": "9171af51-5d12-4ff1-8519-7b06c964d847",
   "metadata": {},
   "outputs": [],
   "source": [
    "data = pd.read_csv(\"F:/global superstore dataset.csv\")"
   ]
  },
  {
   "cell_type": "code",
   "execution_count": 5,
   "id": "4de82531-c854-4db0-92a8-eb9fff3a78c0",
   "metadata": {},
   "outputs": [
    {
     "data": {
      "text/html": [
       "<div>\n",
       "<style scoped>\n",
       "    .dataframe tbody tr th:only-of-type {\n",
       "        vertical-align: middle;\n",
       "    }\n",
       "\n",
       "    .dataframe tbody tr th {\n",
       "        vertical-align: top;\n",
       "    }\n",
       "\n",
       "    .dataframe thead th {\n",
       "        text-align: right;\n",
       "    }\n",
       "</style>\n",
       "<table border=\"1\" class=\"dataframe\">\n",
       "  <thead>\n",
       "    <tr style=\"text-align: right;\">\n",
       "      <th></th>\n",
       "      <th>Sales</th>\n",
       "      <th>Profit</th>\n",
       "      <th>Region</th>\n",
       "      <th>Product Category</th>\n",
       "      <th>Date</th>\n",
       "    </tr>\n",
       "  </thead>\n",
       "  <tbody>\n",
       "    <tr>\n",
       "      <th>0</th>\n",
       "      <td>1878.96</td>\n",
       "      <td>896.32</td>\n",
       "      <td>South America</td>\n",
       "      <td>Furniture</td>\n",
       "      <td>2024-02-14 13:29:23.430266</td>\n",
       "    </tr>\n",
       "    <tr>\n",
       "      <th>1</th>\n",
       "      <td>4754.06</td>\n",
       "      <td>572.19</td>\n",
       "      <td>Oceania</td>\n",
       "      <td>Technology</td>\n",
       "      <td>2023-08-25 13:29:23.430266</td>\n",
       "    </tr>\n",
       "    <tr>\n",
       "      <th>2</th>\n",
       "      <td>3662.65</td>\n",
       "      <td>119.06</td>\n",
       "      <td>Asia</td>\n",
       "      <td>Technology</td>\n",
       "      <td>2020-12-08 13:29:23.430266</td>\n",
       "    </tr>\n",
       "    <tr>\n",
       "      <th>3</th>\n",
       "      <td>2997.31</td>\n",
       "      <td>1127.59</td>\n",
       "      <td>Africa</td>\n",
       "      <td>Appliances</td>\n",
       "      <td>2024-07-28 13:29:23.430266</td>\n",
       "    </tr>\n",
       "    <tr>\n",
       "      <th>4</th>\n",
       "      <td>788.53</td>\n",
       "      <td>869.46</td>\n",
       "      <td>North America</td>\n",
       "      <td>Office Supplies</td>\n",
       "      <td>2022-11-01 13:29:23.430266</td>\n",
       "    </tr>\n",
       "  </tbody>\n",
       "</table>\n",
       "</div>"
      ],
      "text/plain": [
       "     Sales   Profit         Region Product Category  \\\n",
       "0  1878.96   896.32  South America        Furniture   \n",
       "1  4754.06   572.19        Oceania       Technology   \n",
       "2  3662.65   119.06           Asia       Technology   \n",
       "3  2997.31  1127.59         Africa       Appliances   \n",
       "4   788.53   869.46  North America  Office Supplies   \n",
       "\n",
       "                         Date  \n",
       "0  2024-02-14 13:29:23.430266  \n",
       "1  2023-08-25 13:29:23.430266  \n",
       "2  2020-12-08 13:29:23.430266  \n",
       "3  2024-07-28 13:29:23.430266  \n",
       "4  2022-11-01 13:29:23.430266  "
      ]
     },
     "execution_count": 5,
     "metadata": {},
     "output_type": "execute_result"
    }
   ],
   "source": [
    "data.head()"
   ]
  },
  {
   "cell_type": "code",
   "execution_count": 7,
   "id": "372856c9-3308-4c9a-87b5-a98abab8e0d2",
   "metadata": {
    "scrolled": true
   },
   "outputs": [
    {
     "data": {
      "text/html": [
       "<div>\n",
       "<style scoped>\n",
       "    .dataframe tbody tr th:only-of-type {\n",
       "        vertical-align: middle;\n",
       "    }\n",
       "\n",
       "    .dataframe tbody tr th {\n",
       "        vertical-align: top;\n",
       "    }\n",
       "\n",
       "    .dataframe thead th {\n",
       "        text-align: right;\n",
       "    }\n",
       "</style>\n",
       "<table border=\"1\" class=\"dataframe\">\n",
       "  <thead>\n",
       "    <tr style=\"text-align: right;\">\n",
       "      <th></th>\n",
       "      <th>Sales</th>\n",
       "      <th>Profit</th>\n",
       "      <th>Region</th>\n",
       "      <th>Product Category</th>\n",
       "      <th>Date</th>\n",
       "    </tr>\n",
       "  </thead>\n",
       "  <tbody>\n",
       "    <tr>\n",
       "      <th>500</th>\n",
       "      <td>4020.32</td>\n",
       "      <td>-377.84</td>\n",
       "      <td>South America</td>\n",
       "      <td>Clothing</td>\n",
       "      <td>2022-07-17 13:29:23.430266</td>\n",
       "    </tr>\n",
       "    <tr>\n",
       "      <th>501</th>\n",
       "      <td>1205.41</td>\n",
       "      <td>574.21</td>\n",
       "      <td>Europe</td>\n",
       "      <td>Office Supplies</td>\n",
       "      <td>2021-08-11 13:29:23.430266</td>\n",
       "    </tr>\n",
       "    <tr>\n",
       "      <th>502</th>\n",
       "      <td>4316.89</td>\n",
       "      <td>418.27</td>\n",
       "      <td>South America</td>\n",
       "      <td>Furniture</td>\n",
       "      <td>2021-11-29 13:29:23.430266</td>\n",
       "    </tr>\n",
       "    <tr>\n",
       "      <th>503</th>\n",
       "      <td>2618.44</td>\n",
       "      <td>835.12</td>\n",
       "      <td>Europe</td>\n",
       "      <td>Furniture</td>\n",
       "      <td>2020-09-14 13:29:23.430266</td>\n",
       "    </tr>\n",
       "    <tr>\n",
       "      <th>504</th>\n",
       "      <td>1845.24</td>\n",
       "      <td>212.19</td>\n",
       "      <td>North America</td>\n",
       "      <td>Furniture</td>\n",
       "      <td>2023-12-08 13:29:23.430266</td>\n",
       "    </tr>\n",
       "  </tbody>\n",
       "</table>\n",
       "</div>"
      ],
      "text/plain": [
       "       Sales  Profit         Region Product Category  \\\n",
       "500  4020.32 -377.84  South America         Clothing   \n",
       "501  1205.41  574.21         Europe  Office Supplies   \n",
       "502  4316.89  418.27  South America        Furniture   \n",
       "503  2618.44  835.12         Europe        Furniture   \n",
       "504  1845.24  212.19  North America        Furniture   \n",
       "\n",
       "                           Date  \n",
       "500  2022-07-17 13:29:23.430266  \n",
       "501  2021-08-11 13:29:23.430266  \n",
       "502  2021-11-29 13:29:23.430266  \n",
       "503  2020-09-14 13:29:23.430266  \n",
       "504  2023-12-08 13:29:23.430266  "
      ]
     },
     "execution_count": 7,
     "metadata": {},
     "output_type": "execute_result"
    }
   ],
   "source": [
    "data.tail()"
   ]
  },
  {
   "cell_type": "code",
   "execution_count": 9,
   "id": "3aec2b44-9421-4bea-abd4-128080c92f7d",
   "metadata": {},
   "outputs": [
    {
     "data": {
      "text/plain": [
       "(505, 5)"
      ]
     },
     "execution_count": 9,
     "metadata": {},
     "output_type": "execute_result"
    }
   ],
   "source": [
    "data.shape"
   ]
  },
  {
   "cell_type": "code",
   "execution_count": 11,
   "id": "8afe7d3d-974e-41ee-a46d-74f697074272",
   "metadata": {},
   "outputs": [
    {
     "data": {
      "text/plain": [
       "Sales               float64\n",
       "Profit              float64\n",
       "Region               object\n",
       "Product Category     object\n",
       "Date                 object\n",
       "dtype: object"
      ]
     },
     "execution_count": 11,
     "metadata": {},
     "output_type": "execute_result"
    }
   ],
   "source": [
    "data.dtypes"
   ]
  },
  {
   "cell_type": "code",
   "execution_count": 13,
   "id": "dfa44e28-59f2-47e6-be33-aa29514f9951",
   "metadata": {},
   "outputs": [
    {
     "data": {
      "text/plain": [
       "Sales               6\n",
       "Profit              5\n",
       "Region              4\n",
       "Product Category    4\n",
       "Date                4\n",
       "dtype: int64"
      ]
     },
     "execution_count": 13,
     "metadata": {},
     "output_type": "execute_result"
    }
   ],
   "source": [
    "data.isnull().sum()"
   ]
  },
  {
   "cell_type": "code",
   "execution_count": 15,
   "id": "1b702e0c-c634-4e9b-abfd-12a5e29440f0",
   "metadata": {},
   "outputs": [
    {
     "name": "stdout",
     "output_type": "stream",
     "text": [
      "<class 'pandas.core.frame.DataFrame'>\n",
      "RangeIndex: 505 entries, 0 to 504\n",
      "Data columns (total 5 columns):\n",
      " #   Column            Non-Null Count  Dtype  \n",
      "---  ------            --------------  -----  \n",
      " 0   Sales             499 non-null    float64\n",
      " 1   Profit            500 non-null    float64\n",
      " 2   Region            501 non-null    object \n",
      " 3   Product Category  501 non-null    object \n",
      " 4   Date              501 non-null    object \n",
      "dtypes: float64(2), object(3)\n",
      "memory usage: 19.9+ KB\n"
     ]
    }
   ],
   "source": [
    "data.info()"
   ]
  },
  {
   "cell_type": "code",
   "execution_count": 17,
   "id": "841a1334-edc8-4f49-b174-98aaed40ad24",
   "metadata": {},
   "outputs": [],
   "source": [
    "data['Sales'] = data['Sales'].fillna(data['Sales'].mean())"
   ]
  },
  {
   "cell_type": "code",
   "execution_count": 21,
   "id": "9f083a9a-4659-48a5-b0dd-6031fbd46d3f",
   "metadata": {},
   "outputs": [],
   "source": [
    "data['Profit'] = data['Profit'].fillna(data['Profit'].mean())"
   ]
  },
  {
   "cell_type": "code",
   "execution_count": 25,
   "id": "c80b9889-55f2-4402-be08-12f842cea36a",
   "metadata": {},
   "outputs": [],
   "source": [
    "data['Region'] = data['Region'].fillna(data['Region'].mode())"
   ]
  },
  {
   "cell_type": "code",
   "execution_count": 27,
   "id": "6b321552-66d5-4ffd-87eb-45be3207692e",
   "metadata": {},
   "outputs": [],
   "source": [
    "data['Product Category'] = data['Product Category'].fillna(data['Product Category'].mode())"
   ]
  },
  {
   "cell_type": "code",
   "execution_count": 31,
   "id": "24ca8d29-69e6-495d-bfc7-390a2d43c2a1",
   "metadata": {},
   "outputs": [],
   "source": [
    "data['Date'] = data['Date'].fillna(data['Date'].mode())"
   ]
  },
  {
   "cell_type": "code",
   "execution_count": 33,
   "id": "7b5771e2-776b-4dcf-a688-ce9084cdc08d",
   "metadata": {},
   "outputs": [
    {
     "data": {
      "text/html": [
       "<div>\n",
       "<style scoped>\n",
       "    .dataframe tbody tr th:only-of-type {\n",
       "        vertical-align: middle;\n",
       "    }\n",
       "\n",
       "    .dataframe tbody tr th {\n",
       "        vertical-align: top;\n",
       "    }\n",
       "\n",
       "    .dataframe thead th {\n",
       "        text-align: right;\n",
       "    }\n",
       "</style>\n",
       "<table border=\"1\" class=\"dataframe\">\n",
       "  <thead>\n",
       "    <tr style=\"text-align: right;\">\n",
       "      <th></th>\n",
       "      <th>Sales</th>\n",
       "      <th>Profit</th>\n",
       "      <th>Region</th>\n",
       "      <th>Product Category</th>\n",
       "      <th>Date</th>\n",
       "    </tr>\n",
       "  </thead>\n",
       "  <tbody>\n",
       "    <tr>\n",
       "      <th>0</th>\n",
       "      <td>1878.96</td>\n",
       "      <td>896.32</td>\n",
       "      <td>South America</td>\n",
       "      <td>Furniture</td>\n",
       "      <td>2024-02-14 13:29:23.430266</td>\n",
       "    </tr>\n",
       "    <tr>\n",
       "      <th>1</th>\n",
       "      <td>4754.06</td>\n",
       "      <td>572.19</td>\n",
       "      <td>Oceania</td>\n",
       "      <td>Technology</td>\n",
       "      <td>2023-08-25 13:29:23.430266</td>\n",
       "    </tr>\n",
       "    <tr>\n",
       "      <th>2</th>\n",
       "      <td>3662.65</td>\n",
       "      <td>119.06</td>\n",
       "      <td>Asia</td>\n",
       "      <td>Technology</td>\n",
       "      <td>2020-12-08 13:29:23.430266</td>\n",
       "    </tr>\n",
       "    <tr>\n",
       "      <th>3</th>\n",
       "      <td>2997.31</td>\n",
       "      <td>1127.59</td>\n",
       "      <td>Africa</td>\n",
       "      <td>Appliances</td>\n",
       "      <td>2024-07-28 13:29:23.430266</td>\n",
       "    </tr>\n",
       "    <tr>\n",
       "      <th>4</th>\n",
       "      <td>788.53</td>\n",
       "      <td>869.46</td>\n",
       "      <td>North America</td>\n",
       "      <td>Office Supplies</td>\n",
       "      <td>2022-11-01 13:29:23.430266</td>\n",
       "    </tr>\n",
       "    <tr>\n",
       "      <th>...</th>\n",
       "      <td>...</td>\n",
       "      <td>...</td>\n",
       "      <td>...</td>\n",
       "      <td>...</td>\n",
       "      <td>...</td>\n",
       "    </tr>\n",
       "    <tr>\n",
       "      <th>495</th>\n",
       "      <td>1773.23</td>\n",
       "      <td>-316.84</td>\n",
       "      <td>Oceania</td>\n",
       "      <td>Furniture</td>\n",
       "      <td>2021-07-20 13:29:23.430266</td>\n",
       "    </tr>\n",
       "    <tr>\n",
       "      <th>496</th>\n",
       "      <td>2922.44</td>\n",
       "      <td>1334.63</td>\n",
       "      <td>Europe</td>\n",
       "      <td>Technology</td>\n",
       "      <td>2024-02-27 13:29:23.430266</td>\n",
       "    </tr>\n",
       "    <tr>\n",
       "      <th>497</th>\n",
       "      <td>397.90</td>\n",
       "      <td>-226.36</td>\n",
       "      <td>Asia</td>\n",
       "      <td>Furniture</td>\n",
       "      <td>2023-10-28 13:29:23.430266</td>\n",
       "    </tr>\n",
       "    <tr>\n",
       "      <th>498</th>\n",
       "      <td>4872.23</td>\n",
       "      <td>1400.47</td>\n",
       "      <td>Oceania</td>\n",
       "      <td>Technology</td>\n",
       "      <td>2022-11-21 13:29:23.430266</td>\n",
       "    </tr>\n",
       "    <tr>\n",
       "      <th>499</th>\n",
       "      <td>4931.19</td>\n",
       "      <td>392.01</td>\n",
       "      <td>Africa</td>\n",
       "      <td>Clothing</td>\n",
       "      <td>2020-11-11 13:29:23.430266</td>\n",
       "    </tr>\n",
       "  </tbody>\n",
       "</table>\n",
       "<p>500 rows × 5 columns</p>\n",
       "</div>"
      ],
      "text/plain": [
       "       Sales   Profit         Region Product Category  \\\n",
       "0    1878.96   896.32  South America        Furniture   \n",
       "1    4754.06   572.19        Oceania       Technology   \n",
       "2    3662.65   119.06           Asia       Technology   \n",
       "3    2997.31  1127.59         Africa       Appliances   \n",
       "4     788.53   869.46  North America  Office Supplies   \n",
       "..       ...      ...            ...              ...   \n",
       "495  1773.23  -316.84        Oceania        Furniture   \n",
       "496  2922.44  1334.63         Europe       Technology   \n",
       "497   397.90  -226.36           Asia        Furniture   \n",
       "498  4872.23  1400.47        Oceania       Technology   \n",
       "499  4931.19   392.01         Africa         Clothing   \n",
       "\n",
       "                           Date  \n",
       "0    2024-02-14 13:29:23.430266  \n",
       "1    2023-08-25 13:29:23.430266  \n",
       "2    2020-12-08 13:29:23.430266  \n",
       "3    2024-07-28 13:29:23.430266  \n",
       "4    2022-11-01 13:29:23.430266  \n",
       "..                          ...  \n",
       "495  2021-07-20 13:29:23.430266  \n",
       "496  2024-02-27 13:29:23.430266  \n",
       "497  2023-10-28 13:29:23.430266  \n",
       "498  2022-11-21 13:29:23.430266  \n",
       "499  2020-11-11 13:29:23.430266  \n",
       "\n",
       "[500 rows x 5 columns]"
      ]
     },
     "execution_count": 33,
     "metadata": {},
     "output_type": "execute_result"
    }
   ],
   "source": [
    "data.drop_duplicates()"
   ]
  },
  {
   "cell_type": "code",
   "execution_count": 35,
   "id": "52a394c1-07f1-44ad-ac0c-8963ee96b785",
   "metadata": {},
   "outputs": [
    {
     "data": {
      "text/plain": [
       "(505, 5)"
      ]
     },
     "execution_count": 35,
     "metadata": {},
     "output_type": "execute_result"
    }
   ],
   "source": [
    "data.shape"
   ]
  },
  {
   "cell_type": "code",
   "execution_count": 39,
   "id": "d5291c31-2086-41be-ad0b-2fa130031f88",
   "metadata": {},
   "outputs": [],
   "source": [
    "for col in ['Sales', 'Profit']:\n",
    "    Q1 = data[col].quantile(0.25)\n",
    "    Q3 = data[col].quantile(0.75)\n",
    "    IQR = Q3 - Q1\n",
    "    lower = Q1 - 1.5 * IQR\n",
    "    upper = Q3 + 1.5 * IQR\n",
    "    data = data[(data[col] >= lower) & (data[col] <= upper)]"
   ]
  },
  {
   "cell_type": "code",
   "execution_count": 45,
   "id": "53b7bd1f-2df3-42c8-a67b-16ad2c2e883d",
   "metadata": {},
   "outputs": [
    {
     "name": "stdout",
     "output_type": "stream",
     "text": [
      "Mean:\n",
      " Sales     2506.632064\n",
      "Profit     463.697200\n",
      "dtype: float64\n",
      "\n",
      "Median:\n",
      " Sales     2561.6\n",
      "Profit     452.1\n",
      "dtype: float64\n",
      "\n",
      "Standard Deviation:\n",
      " Sales     1473.572383\n",
      "Profit     568.578845\n",
      "dtype: float64\n",
      "\n",
      "Variance:\n",
      " Sales     2.171416e+06\n",
      "Profit    3.232819e+05\n",
      "dtype: float64\n"
     ]
    }
   ],
   "source": [
    "print(\"Mean:\\n\", data[['Sales', 'Profit']].mean())\n",
    "print(\"\\nMedian:\\n\", data[['Sales', 'Profit']].median())\n",
    "print(\"\\nStandard Deviation:\\n\", data[['Sales', 'Profit']].std())\n",
    "print(\"\\nVariance:\\n\", data[['Sales', 'Profit']].var())"
   ]
  },
  {
   "cell_type": "code",
   "execution_count": 57,
   "id": "10927bd6-5ca2-4558-9b15-1369128b8752",
   "metadata": {},
   "outputs": [
    {
     "name": "stdout",
     "output_type": "stream",
     "text": [
      "\n",
      "Correlation Matrix:\n",
      "            Sales    Profit\n",
      "Sales   1.000000  0.009474\n",
      "Profit  0.009474  1.000000\n"
     ]
    }
   ],
   "source": [
    "# Correlation matrix\n",
    "correlation_matrix = data[['Sales', 'Profit']].corr()\n",
    "print(\"\\nCorrelation Matrix:\\n\", correlation_matrix)"
   ]
  },
  {
   "cell_type": "code",
   "execution_count": 67,
   "id": "fa1857da-1af4-4f62-9a71-c865ca9656fc",
   "metadata": {},
   "outputs": [
    {
     "data": {
      "image/png": "[encoded data removed]",
      "text/plain": [
       "<Figure size 1200x500 with 2 Axes>"
      ]
     },
     "metadata": {},
     "output_type": "display_data"
    }
   ],
   "source": [
    "# Histograms\n",
    "plt.figure(figsize=(12, 5))\n",
    "plt.subplot(1, 2, 1)\n",
    "sns.histplot(data['Sales'], kde=True, bins=30, color='skyblue')\n",
    "plt.title('Sales Distribution')\n",
    "\n",
    "plt.subplot(1, 2, 2)\n",
    "sns.histplot(data['Profit'], kde=True, bins=30, color='salmon')\n",
    "plt.title('Profit Distribution')\n",
    "plt.tight_layout()\n",
    "plt.show()"
   ]
  },
  {
   "cell_type": "code",
   "execution_count": 69,
   "id": "2a2116c5-f6c9-400d-bc70-6967e8723493",
   "metadata": {},
   "outputs": [
    {
     "data": {
      "image/png": "[encoded data removed]",
      "text/plain": [
       "<Figure size 1200x500 with 2 Axes>"
      ]
     },
     "metadata": {},
     "output_type": "display_data"
    }
   ],
   "source": [
    "# Boxplots\n",
    "plt.figure(figsize=(12, 5))\n",
    "plt.subplot(1, 2, 1)\n",
    "sns.boxplot(x=data['Sales'], color='skyblue')\n",
    "plt.title('Boxplot of Sales')\n",
    "\n",
    "plt.subplot(1, 2, 2)\n",
    "sns.boxplot(x=data['Profit'], color='salmon')\n",
    "plt.title('Boxplot of Profit')\n",
    "plt.tight_layout()\n",
    "plt.show()"
   ]
  },
  {
   "cell_type": "code",
   "execution_count": 71,
   "id": "d661af3c-a164-4a83-8e3b-686980c5df5d",
   "metadata": {},
   "outputs": [
    {
     "data": {
      "image/png": "[encoded data removed]",
      "text/plain": [
       "<Figure size 600x400 with 2 Axes>"
      ]
     },
     "metadata": {},
     "output_type": "display_data"
    }
   ],
   "source": [
    "# Correlation Heatmap\n",
    "plt.figure(figsize=(6, 4))\n",
    "sns.heatmap(correlation_matrix, annot=True, cmap='coolwarm', fmt=\".2f\")\n",
    "plt.title('Correlation Heatmap')\n",
    "plt.tight_layout()\n",
    "plt.show()"
   ]
  },
  {
   "cell_type": "code",
   "execution_count": null,
   "id": "ecccbcfe-a141-4c3e-b56b-633f875631ca",
   "metadata": {},
   "outputs": [],
   "source": []
  }
 ],
 "metadata": {
  "kernelspec": {
   "display_name": "Python 3 (ipykernel)",
   "language": "python",
   "name": "python3"
  },
  "language_info": {
   "codemirror_mode": {
    "name": "ipython",
    "version": 3
   },
   "file_extension": ".py",
   "mimetype": "text/x-python",
   "name": "python",
   "nbconvert_exporter": "python",
   "pygments_lexer": "ipython3",
   "version": "3.12.7"
  }
 },
 "nbformat": 4,
 "nbformat_minor": 5
}
